{
 "cells": [
  {
   "cell_type": "code",
   "execution_count": 1,
   "id": "sound-german",
   "metadata": {},
   "outputs": [],
   "source": [
    "# Import packages\n",
    "import requests\n",
    "import pandas as pd\n",
    "import matplotlib.pyplot as plt\n",
    "import matplotlib.dates as mdates\n",
    "import matplotlib.font_manager as fm"
   ]
  },
  {
   "cell_type": "markdown",
   "id": "43fc82c3",
   "metadata": {},
   "source": [
    "### Get location IDs to use for query"
   ]
  },
  {
   "cell_type": "code",
   "execution_count": 2,
   "id": "signal-reasoning",
   "metadata": {},
   "outputs": [],
   "source": [
    "BASE_URL_LOCATION = \"https://www.metaweather.com/api/location/search/?query=\""
   ]
  },
  {
   "cell_type": "code",
   "execution_count": 3,
   "id": "fd68a91f",
   "metadata": {},
   "outputs": [],
   "source": [
    "cities = {\n",
    "    \"San Francisco\": None,\n",
    "    \"Seoul\": None,\n",
    "    \"Chennai\": None,\n",
    "    \"Cape Town\": None\n",
    "}"
   ]
  },
  {
   "cell_type": "code",
   "execution_count": 4,
   "id": "91aa11f1",
   "metadata": {},
   "outputs": [],
   "source": [
    "for city in cities.keys():\n",
    "    payload = requests.get(BASE_URL_LOCATION + city.lower().replace(\" \", \"+\")).json()\n",
    "    cities[city] = payload[0][\"woeid\"]"
   ]
  },
  {
   "cell_type": "code",
   "execution_count": 5,
   "id": "ab25c8e8",
   "metadata": {},
   "outputs": [
    {
     "data": {
      "text/plain": [
       "{'San Francisco': 2487956,\n",
       " 'Seoul': 1132599,\n",
       " 'Chennai': 2295424,\n",
       " 'Cape Town': 1591691}"
      ]
     },
     "execution_count": 5,
     "metadata": {},
     "output_type": "execute_result"
    }
   ],
   "source": [
    "cities"
   ]
  },
  {
   "cell_type": "markdown",
   "id": "hidden-viewer",
   "metadata": {},
   "source": [
    "### Get weather for the different locations"
   ]
  },
  {
   "cell_type": "code",
   "execution_count": 6,
   "id": "frequent-jacob",
   "metadata": {},
   "outputs": [],
   "source": [
    "BASE_URL_WEATHER = \"https://www.metaweather.com/api/location/\""
   ]
  },
  {
   "cell_type": "code",
   "execution_count": 7,
   "id": "7dff8c19",
   "metadata": {},
   "outputs": [],
   "source": [
    "curr_weather = []\n",
    "\n",
    "for city, woe_id in cities.items():\n",
    "    payload = requests.get(BASE_URL_WEATHER + str(woe_id)).json()\n",
    "    curr_weather.append(\n",
    "        {\n",
    "            \"time_utc\": payload[\"consolidated_weather\"][0][\"created\"],\n",
    "            \"location\": city,\n",
    "            \"temperature_c\": payload[\"consolidated_weather\"][0][\"the_temp\"],\n",
    "            \"weather_state\": payload[\"consolidated_weather\"][0][\"weather_state_name\"]\n",
    "        }\n",
    "    )"
   ]
  },
  {
   "cell_type": "code",
   "execution_count": 8,
   "id": "a5f00f0e-2333-4c6b-85d6-0cd4e0caa573",
   "metadata": {},
   "outputs": [
    {
     "data": {
      "text/html": [
       "<div>\n",
       "<style scoped>\n",
       "    .dataframe tbody tr th:only-of-type {\n",
       "        vertical-align: middle;\n",
       "    }\n",
       "\n",
       "    .dataframe tbody tr th {\n",
       "        vertical-align: top;\n",
       "    }\n",
       "\n",
       "    .dataframe thead th {\n",
       "        text-align: right;\n",
       "    }\n",
       "</style>\n",
       "<table border=\"1\" class=\"dataframe\">\n",
       "  <thead>\n",
       "    <tr style=\"text-align: right;\">\n",
       "      <th></th>\n",
       "      <th>time_utc</th>\n",
       "      <th>location</th>\n",
       "      <th>temperature_c</th>\n",
       "      <th>weather_state</th>\n",
       "    </tr>\n",
       "  </thead>\n",
       "  <tbody>\n",
       "    <tr>\n",
       "      <th>0</th>\n",
       "      <td>2022-01-21T00:59:16.170250Z</td>\n",
       "      <td>San Francisco</td>\n",
       "      <td>15.595</td>\n",
       "      <td>Clear</td>\n",
       "    </tr>\n",
       "    <tr>\n",
       "      <th>1</th>\n",
       "      <td>2022-01-21T01:09:37.169183Z</td>\n",
       "      <td>Seoul</td>\n",
       "      <td>0.985</td>\n",
       "      <td>Light Cloud</td>\n",
       "    </tr>\n",
       "    <tr>\n",
       "      <th>2</th>\n",
       "      <td>2022-01-20T23:34:40.766396Z</td>\n",
       "      <td>Chennai</td>\n",
       "      <td>27.940</td>\n",
       "      <td>Heavy Cloud</td>\n",
       "    </tr>\n",
       "    <tr>\n",
       "      <th>3</th>\n",
       "      <td>2022-01-21T00:06:14.545005Z</td>\n",
       "      <td>Cape Town</td>\n",
       "      <td>28.095</td>\n",
       "      <td>Clear</td>\n",
       "    </tr>\n",
       "  </tbody>\n",
       "</table>\n",
       "</div>"
      ],
      "text/plain": [
       "                      time_utc       location  temperature_c weather_state\n",
       "0  2022-01-21T00:59:16.170250Z  San Francisco         15.595         Clear\n",
       "1  2022-01-21T01:09:37.169183Z          Seoul          0.985   Light Cloud\n",
       "2  2022-01-20T23:34:40.766396Z        Chennai         27.940   Heavy Cloud\n",
       "3  2022-01-21T00:06:14.545005Z      Cape Town         28.095         Clear"
      ]
     },
     "execution_count": 8,
     "metadata": {},
     "output_type": "execute_result"
    }
   ],
   "source": [
    "pd.DataFrame(curr_weather)"
   ]
  },
  {
   "cell_type": "markdown",
   "id": "verified-riverside",
   "metadata": {},
   "source": [
    "### Load and Append to DataFrame"
   ]
  },
  {
   "cell_type": "code",
   "execution_count": 9,
   "id": "anticipated-advice",
   "metadata": {},
   "outputs": [],
   "source": [
    "try:\n",
    "    df = pd.read_csv(\"weather_locations.csv\")\n",
    "    df = df.append(pd.DataFrame(curr_weather))\n",
    "except Exception:\n",
    "    # Create DataFrame on first run\n",
    "    df = pd.DataFrame(curr_weather)\n",
    "    \n",
    "# Drop duplicate rows\n",
    "df = df.drop_duplicates()\n",
    "    \n",
    "# Save new CSV\n",
    "df.to_csv(\"weather_locations.csv\", index=False)"
   ]
  },
  {
   "cell_type": "markdown",
   "id": "3220202d",
   "metadata": {},
   "source": [
    "### Dynamically Load Font `Lato`"
   ]
  },
  {
   "cell_type": "code",
   "execution_count": 10,
   "id": "cc43a38b",
   "metadata": {},
   "outputs": [
    {
     "data": {
      "text/plain": [
       "<matplotlib.font_manager.FontProperties at 0x116627b50>"
      ]
     },
     "execution_count": 10,
     "metadata": {},
     "output_type": "execute_result"
    }
   ],
   "source": [
    "font_path = \"./fonts/Lato-Regular.ttf\"\n",
    "\n",
    "fm.fontManager.addfont(font_path)\n",
    "fm.FontProperties(fname=font_path)"
   ]
  },
  {
   "cell_type": "markdown",
   "id": "flying-specification",
   "metadata": {},
   "source": [
    "### Plot Data"
   ]
  },
  {
   "cell_type": "code",
   "execution_count": 11,
   "id": "f326bfaf",
   "metadata": {},
   "outputs": [
    {
     "data": {
      "image/png": "[encoded data removed]",
      "text/plain": [
       "<Figure size 1080x720 with 1 Axes>"
      ]
     },
     "metadata": {},
     "output_type": "display_data"
    }
   ],
   "source": [
    "plt.style.use(\"seaborn-darkgrid\")\n",
    "plt.rcParams[\"font.family\"] = \"Lato\"\n",
    "plt.rcParams[\"font.size\"] = 16\n",
    "plt.rcParams[\"xtick.major.size\"] = 0\n",
    "plt.rcParams[\"ytick.major.size\"] = 0\n",
    "\n",
    "fig = plt.figure(figsize=(15, 10))\n",
    "ax = fig.add_subplot(111)\n",
    "\n",
    "# Load DataFrame\n",
    "df = pd.read_csv(\"weather_locations.csv\")\n",
    "\n",
    "# Convert date column to datetime\n",
    "df.time_utc = df.time_utc.apply(lambda t: pd.to_datetime(str(t)))\n",
    "\n",
    "# Plot Data\n",
    "for city in cities.keys():\n",
    "    df_temp = df[df[\"location\"] == city].copy()\n",
    "    ax.plot(df_temp[\"time_utc\"], df_temp[\"temperature_c\"], lw=2, markevery=[-1], marker=\"o\", ms=10, mew=2, mfc=\"white\")\n",
    "\n",
    "# Tick Label Format\n",
    "ax.xaxis.set_major_formatter(mdates.DateFormatter(\"%m/%d\"))\n",
    "\n",
    "# Axis Labels\n",
    "ax.set_xlabel(\"Date\", labelpad=10, size=20)\n",
    "ax.set_ylabel(\"Temperature (˚C)\", labelpad=10, size=20)\n",
    "\n",
    "# ax.set_title(\n",
    "#     \"Extreme Weather Temperatures Worldwide\\n\" +\n",
    "#     f\"Most Recent: {df.iloc[-1].t_hot_f} ˚F (hot) and {df.iloc[-1].t_cold_f} ˚F (cold) @ {df.iloc[-1].date}\", \n",
    "#     loc=\"left\", pad=20\n",
    "# )\n",
    "\n",
    "plt.savefig(\"weather_locations.png\", dpi=300, bbox_inches=\"tight\")\n",
    "plt.show()"
   ]
  }
 ],
 "metadata": {
  "kernelspec": {
   "display_name": "Python 3 (ipykernel)",
   "language": "python",
   "name": "python3"
  },
  "language_info": {
   "codemirror_mode": {
    "name": "ipython",
    "version": 3
   },
   "file_extension": ".py",
   "mimetype": "text/x-python",
   "name": "python",
   "nbconvert_exporter": "python",
   "pygments_lexer": "ipython3",
   "version": "3.7.12"
  }
 },
 "nbformat": 4,
 "nbformat_minor": 5
}
